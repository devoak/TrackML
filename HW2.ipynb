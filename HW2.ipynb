{
 "cells": [
  {
   "cell_type": "code",
   "execution_count": 186,
   "metadata": {},
   "outputs": [],
   "source": [
    "import numpy as np\n",
    "import matplotlib.pyplot as plt\n",
    "import pickle\n",
    "%matplotlib inline"
   ]
  },
  {
   "cell_type": "code",
   "execution_count": 187,
   "metadata": {},
   "outputs": [],
   "source": [
    "# класс one-hot encoder'а для MNIST\n",
    "class OneHotEncoder:\n",
    "    def __init__(self):\n",
    "        self.transform_mapping = np.zeros((10,10))\n",
    "        for i in range(self.transform_mapping.shape[0]):\n",
    "            self.transform_mapping[i][i] = 1.0\n",
    "    def transform(self, y):\n",
    "        return self.transform_mapping[int(y)]"
   ]
  },
  {
   "cell_type": "code",
   "execution_count": 188,
   "metadata": {},
   "outputs": [],
   "source": [
    "def make_submission(X_test, net, fname=\"my_submission.csv\"):\n",
    "    with open(fname,'w') as fout:\n",
    "        fout.write('Id,Category')\n",
    "        for i in range(X_test.shape[0]):\n",
    "            y_h = net.forward(X_test[i])\n",
    "            y = np.argmax(y_h)\n",
    "            fout.write(\"\\n{},{}\".format(i, int(y)))"
   ]
  },
  {
   "cell_type": "code",
   "execution_count": 189,
   "metadata": {},
   "outputs": [],
   "source": [
    "# внимание, тут Y_test в обычном формате(не onehot)\n",
    "def compute_acc(X_test, Y_test, net):\n",
    "    acc = 0.0\n",
    "    for i in range(X_test.shape[0]):\n",
    "        y_h = net.forward(X_test[i])\n",
    "        y = np.argmax(y_h)\n",
    "        if(y == Y_test[i]):\n",
    "            acc += 1.0\n",
    "    return acc / Y_test.shape[0]"
   ]
  },
  {
   "cell_type": "code",
   "execution_count": 190,
   "metadata": {},
   "outputs": [],
   "source": [
    "train_data = None\n",
    "test_data = None\n",
    "encoder = OneHotEncoder()\n",
    "with open('data_train.pickle','rb') as fin:\n",
    "    train_data = pickle.load(fin)\n",
    "with open('data_test_no_labels.pickle','rb') as fin:\n",
    "    test_data = pickle.load(fin)\n",
    "    \n",
    "X_train = train_data['data']\n",
    "Y_train = train_data['target']\n",
    "Y_train_oh = np.array(list(map(lambda x : encoder.transform(x), Y_train)))\n",
    "\n",
    "\n",
    "X_test = test_data['data']"
   ]
  },
  {
   "cell_type": "code",
   "execution_count": 191,
   "metadata": {},
   "outputs": [
    {
     "data": {
      "image/png": "[encoded data removed]",
      "text/plain": [
       "<Figure size 432x288 with 25 Axes>"
      ]
     },
     "metadata": {},
     "output_type": "display_data"
    }
   ],
   "source": [
    "n=5\n",
    "for i in range(n*n):\n",
    "    plt.subplot(n,n,i+1)\n",
    "    I = train_data['data'][np.random.randint(0, X_train.shape[0]),:]\n",
    "    I = I.reshape((28, 28))\n",
    "    plt.imshow(I, cmap='gray')"
   ]
  },
  {
   "cell_type": "markdown",
   "metadata": {},
   "source": [
    "# Layers\n"
   ]
  },
  {
   "cell_type": "markdown",
   "metadata": {},
   "source": [
    "Я использовал немного другую концепцию реализации слоёв. Я их сделал функциями. Forward pass возвращает своё возвращаемое значение и кэш, который затем передаётся в backward pass. За исключением \"softmaxPlusLoss\".\n"
   ]
  },
  {
   "cell_type": "markdown",
   "metadata": {},
   "source": [
    "My softmax and loss function in one. All in one, perfect!"
   ]
  },
  {
   "cell_type": "code",
   "execution_count": 192,
   "metadata": {},
   "outputs": [],
   "source": [
    "def softmaxPlusLoss(rawScores, correctScores):\n",
    "    loss = 0\n",
    "    numClasses = rawScores.shape[0]\n",
    "    scores = rawScores - np.max(rawScores, axis=1, keepdims=True)\n",
    "    normalizeCoefs = np.sum(np.exp(scores), axis=1, keepdims=True)\n",
    "    logNormalizeScores = scores - np.log(normalizeCoefs)\n",
    "    normalizeScores = np.exp(logNormalizeScores)\n",
    "    loss = -np.sum(logNormalizeScores[np.arange(numClasses), correctScores]) /  numClasses\n",
    "    grad = normalizeScores.copy()\n",
    "    grad[np.arange(numClasses), correctScores] -= 1\n",
    "    grad /= numClasses\n",
    "    return loss, grad\n"
   ]
  },
  {
   "cell_type": "markdown",
   "metadata": {},
   "source": [
    "# Affine Layer, forward & backward"
   ]
  },
  {
   "cell_type": "code",
   "execution_count": 193,
   "metadata": {},
   "outputs": [],
   "source": [
    "def affineForward(x, w, b):\n",
    "    out = None\n",
    "    D = w.shape[0]\n",
    "    N = x.shape[0]\n",
    "    out = np.dot(np.reshape(np.ravel(x), (N, D)), w) + b\n",
    "    cache = (x, w, b)\n",
    "    return out, cache\n",
    "\n",
    "def affineBackward(dout, cache):\n",
    "    x, w, b = cache\n",
    "    dx, dw, db = None, None, None\n",
    "    dx = dout.dot(w.T).reshape(x.shape)\n",
    "    dw = x.reshape(x.shape[0], w.shape[0]).T.dot(dout)\n",
    "    db = np.sum(dout, axis=0)\n",
    "    return dx, dw, db"
   ]
  },
  {
   "cell_type": "markdown",
   "metadata": {},
   "source": [
    "# ReLu Layer"
   ]
  },
  {
   "cell_type": "code",
   "execution_count": 194,
   "metadata": {},
   "outputs": [],
   "source": [
    "def reluForward(x):\n",
    "    out = None\n",
    "    out = np.maximum(0, x)\n",
    "    cache = x\n",
    "    return out, cache\n",
    "\n",
    "\n",
    "def reluBackward(dout, cache):\n",
    "    dx, x = None, cache\n",
    "    dx = np.maximum(0, x)\n",
    "    dx[x > 0] = 1\n",
    "    dx *= dout\n",
    "    return dx\n",
    "\n",
    "def leakyReluForward(x):\n",
    "    out = None\n",
    "    out = np.where(x > 0, x, x * 0.01)\n",
    "    cache = x\n",
    "    return out, cache\n",
    "\n",
    "\n",
    "def leakyReluBackward(dout, cache):\n",
    "    dx, x = None, cache\n",
    "    dx = np.where(x > 0, 1, 0.01)\n",
    "    dx *= dout\n",
    "    return dx"
   ]
  },
  {
   "cell_type": "markdown",
   "metadata": {},
   "source": [
    "# Dropout\n",
    "\n"
   ]
  },
  {
   "cell_type": "code",
   "execution_count": 195,
   "metadata": {},
   "outputs": [],
   "source": [
    "def dropoutForward(x, mode = \"train\"):\n",
    "    p = 0.5\n",
    "    mask = None\n",
    "    out = None\n",
    "    if mode == 'train':\n",
    "        mask = np.random.binomial(1, 1 - p, size = x.shape) / (1 - p)\n",
    "        out = x * mask\n",
    "    elif mode == 'test':\n",
    "        out = x\n",
    "    cache = (mode, mask)\n",
    "    out = out.astype(x.dtype, copy=False)\n",
    "    return out, cache\n",
    "\n",
    "\n",
    "def dropoutBackward(dout, cache):\n",
    "    mode, mask = cache\n",
    "    dx = None\n",
    "    if mode == 'train':\n",
    "        dx = dout * mask\n",
    "    elif mode == 'test':\n",
    "        dx = dout\n",
    "    return dx"
   ]
  },
  {
   "cell_type": "markdown",
   "metadata": {},
   "source": [
    "# Affine-ReLu Layer"
   ]
  },
  {
   "cell_type": "code",
   "execution_count": 196,
   "metadata": {},
   "outputs": [],
   "source": [
    "def affineReluForward(x, w, b, dropout_mode):\n",
    "    a, affineCache = affineForward(x, w, b)\n",
    "    out, reluCache = leakyReluForward(a)\n",
    "    out, dropoutCache = dropoutForward(out, dropout_mode)\n",
    "    cache = (affineCache, reluCache, dropoutCache)\n",
    "    return out, cache\n",
    "\n",
    "\n",
    "def affineReluBackward(dout, cache):\n",
    "    affineCache, reluCache, dropoutCache = cache\n",
    "    da = dropoutBackward(dout, dropoutCache)\n",
    "    da = leakyReluBackward(dout, reluCache)\n",
    "    dx, dw, db = affineBackward(da, affineCache)\n",
    "    return dx, dw, db\n"
   ]
  },
  {
   "cell_type": "markdown",
   "metadata": {},
   "source": [
    "# State-of-the-Art update rule - Adam\n"
   ]
  },
  {
   "cell_type": "code",
   "execution_count": 197,
   "metadata": {},
   "outputs": [],
   "source": [
    "def adam(w, dw, config=None):\n",
    "    if config is None: config = {}\n",
    "    config.setdefault('learningRate', 1e-3)\n",
    "    config.setdefault('beta1', 0.9)\n",
    "    config.setdefault('beta2', 0.999)\n",
    "    config.setdefault('epsilon', 1e-8)\n",
    "    config.setdefault('m', np.zeros_like(w))\n",
    "    config.setdefault('v', np.zeros_like(w))\n",
    "    config.setdefault('t', 0)\n",
    "\n",
    "    next_w = None\n",
    "    \n",
    "    t = config['t'] + 1\n",
    "    m = config['beta1'] * config['m'] + (1 - config['beta1']) * dw\n",
    "    mt = m / (1 - config['beta1']**t)\n",
    "    v = config['beta2'] * config['v'] + (1 - config['beta2']) * (dw**2)\n",
    "    vt = v / (1 - config['beta2']**t)\n",
    "    next_w = w - config['learningRate'] * mt / (np.sqrt(vt) + config['epsilon'])\n",
    "    config['t'] = t\n",
    "    config['m'] = m\n",
    "    config['v'] = v\n",
    "\n",
    "    return next_w, config\n",
    "\n",
    "\n",
    "def sgd(w, dw, learningRate):\n",
    "    return w - learningRate * dw\n",
    "\n"
   ]
  },
  {
   "cell_type": "markdown",
   "metadata": {},
   "source": [
    "# MultiLayers Network"
   ]
  },
  {
   "cell_type": "code",
   "execution_count": 198,
   "metadata": {},
   "outputs": [],
   "source": [
    "class TwoLayersNet(object):\n",
    "\n",
    "    def __init__(self, inputDim, hiddenDim, numClasses,\n",
    "                 weightScale=1e-3, reg=0.0):\n",
    "        self.params = {}\n",
    "        self.bestParams = {}\n",
    "        self.reg = reg\n",
    "        self.params['W1'] = weight_scale * np.random.randn(inputDim, hiddenDim)\n",
    "        self.params['b1'] = np.zeros(hiddenDim)\n",
    "        self.params['W2'] = weightScale * np.random.randn(hiddenDim, numClasses)\n",
    "        self.params['b2'] = np.zeros(numClasses)\n",
    "        self.bestParams['W1'] = weightScale * np.random.randn(inputDim, hiddenDim)\n",
    "        self.bestParams['b1'] = np.zeros(hiddenDim)\n",
    "        self.bestParams['W2'] = weightScale * np.random.randn(hiddenDim, numClasses)\n",
    "        self.bestParams['b2'] = np.zeros(numClasses)\n",
    "        self.bestValAcc = 0\n",
    "\n",
    "        \n",
    "    def train(self, data, learningRate=1e-7, numIters=10000, batchSize=200, verbose=True):\n",
    "        trainData = data[\"trainData\"]\n",
    "        trainLabels = data[\"trainLabels\"]\n",
    "        valData = data[\"valData\"]\n",
    "        valLabels = data[\"valLabels\"]\n",
    "        reg = self.reg\n",
    "        \n",
    "        optimConfig = {}\n",
    "        for weightsName in self.params.keys():\n",
    "            optimConfig.update({weightsName : {\"learningRate\" : learningRate}})\n",
    "        \n",
    "        numTrain, vectorSize = trainData.shape\n",
    "        numClasses = np.max(trainLabels) + 1\n",
    "\n",
    "        lossHistoryTrain = {}\n",
    "        lossHistoryVal = {}\n",
    "        accHistoryTrain = {}\n",
    "        accHistoryVal = {} \n",
    "        for it in range(numIters):\n",
    "            batchIndicies = np.random.choice(numTrain, batchSize)\n",
    "            X_batch = trainData[batchIndicies]\n",
    "            y_batch = trainLabels[batchIndicies]\n",
    "            trainLoss, grads = self.step(X_batch, y_batch)\n",
    "            lossHistoryTrain[it] = trainLoss\n",
    "            \n",
    "            for weightsName in self.params.keys():\n",
    "                self.params[weightsName], optimConfig[weightsName] = adam(self.params[weightsName], grads[weightsName], optimConfig[weightsName])\n",
    "                \n",
    "            if verbose and it % (numIters/ 20) == 0:\n",
    "                valLoss, _ = self.step(valData, valLabels)\n",
    "                lossHistoryVal[it] = valLoss\n",
    "                trainAcc = self.accuracy(X_batch, y_batch)\n",
    "                valAcc = self.accuracy(valData, valLabels)\n",
    "                accHistoryTrain[it] = trainAcc\n",
    "                accHistoryVal[it] = valAcc\n",
    "                print('iteration %d / %d: train loss %f val loss %f train acc - %f val acc - %f' % (it, numIters, trainLoss, valLoss, trainAcc, valAcc))\n",
    "                \n",
    "                \n",
    "                if (valAcc > self.bestValAcc):\n",
    "                    self.bestParams['W1'] = np.copy(self.params['W1'])\n",
    "                    self.bestParams['b1'] = np.copy(self.params['b1'])\n",
    "                    self.bestParams['W2'] = np.copy(self.params['W2'])\n",
    "                    self.bestParams['b2'] = np.copy(self.params['b2'])\n",
    "                    self.bestValAcc = valAcc \n",
    "                    print(\"new best Acc -\", valAcc)\n",
    "                    \n",
    "                for key in optimConfig.keys():\n",
    "                    optimConfig[key][\"learningRate\"] *= 0.85\n",
    "                \n",
    "        return lossHistoryTrain, lossHistoryVal, accHistoryTrain, accHistoryVal\n",
    "                \n",
    "\n",
    "    def step(self, X, y=None):\n",
    "        loss, cache = self._forward(X, y)\n",
    "        grads = self._backward(y, cache)\n",
    "        return loss, grads\n",
    "\n",
    "    #just calculate scores and cache, no loss (with aim to code func \"predict\" easier)\n",
    "    def net(self, X, dropout_mode):\n",
    "        scores = None\n",
    "        W1, b1 = self.params['W1'], self.params['b1']\n",
    "        W2, b2 = self.params['W2'], self.params['b2']\n",
    "        intermediateOut, cache1 = affineReluForward(X, W1, b1, dropout_mode)\n",
    "        scores, cache2 = affineForward(intermediateOut, W2, b2)\n",
    "        return scores, cache1, cache2\n",
    "    \n",
    "    def bestNet(self, X):\n",
    "        scores = None\n",
    "        W1, b1 = self.bestParams['W1'], self.bestParams['b1']\n",
    "        W2, b2 = self.bestParams['W2'], self.bestParams['b2']\n",
    "        intermediateOut, _ = affineReluForward(X, W1, b1, \"test\")\n",
    "        scores, _ = affineForward(intermediateOut, W2, b2)\n",
    "        return scores\n",
    "    \n",
    "    #full forward pass with loss business\n",
    "    def _forward(self, X, y):\n",
    "        scores, cache1, cache2 = self.net(X, \"train\")\n",
    "        W1, b1 = self.params['W1'], self.params['b1']\n",
    "        W2, b2 = self.params['W2'], self.params['b2']\n",
    "        loss, dout = softmaxPlusLoss(scores, y)\n",
    "        loss += 0.5 * self.reg * (np.sum(W1 * W1) + np.sum(W2 * W2))\n",
    "        cache = (dout, cache1, cache2)\n",
    "        return loss, cache\n",
    "    \n",
    "    #full backward pass\n",
    "    def _backward(self, y, cache):\n",
    "        dout, cache1, cache2 = cache\n",
    "        grads = {}\n",
    "        W1, b1 = self.params['W1'], self.params['b1']\n",
    "        W2, b2 = self.params['W2'], self.params['b2']\n",
    "        dx1, grads['W2'], grads['b2'] = affineBackward(dout, cache2)\n",
    "        dx2, grads['W1'], grads['b1'] = affineReluBackward(dx1, cache1)\n",
    "        grads['W1'] += self.reg * W1\n",
    "        grads['W2'] += self.reg * W2\n",
    "        return grads\n",
    "        \n",
    "    \n",
    "    def predict(self, data):\n",
    "        scores, _, _ = self.net(data, \"test\")\n",
    "        y_pred = [np.argmax(x) for x in scores]\n",
    "        return y_pred\n",
    "    \n",
    "    def accuracy(self, data, labels):\n",
    "        return (self.predict(data) == labels).mean()\n",
    "        "
   ]
  },
  {
   "cell_type": "code",
   "execution_count": 199,
   "metadata": {},
   "outputs": [],
   "source": [
    "# Data Preparing\n",
    "data = {}\n",
    "trainPercentage = 0.85\n",
    "lenFull = len(X_train)\n",
    "lenTrain = round(lenFull * trainPercentage)\n",
    "lenVal = lenFull - lenTrain\n",
    "\n",
    "Y_train = np.array([int(x) for x in Y_train])\n",
    "\n",
    "trainIndicies = np.random.choice(lenTrain, lenTrain)\n",
    "data[\"trainData\"] = X_train[trainIndicies]\n",
    "data[\"trainLabels\"] = Y_train[trainIndicies]\n",
    "valIndicies = np.random.choice(lenVal, lenVal) + lenTrain\n",
    "data[\"valData\"] = X_train[valIndicies]\n",
    "data[\"valLabels\"] = Y_train[valIndicies]"
   ]
  },
  {
   "cell_type": "code",
   "execution_count": null,
   "metadata": {},
   "outputs": [
    {
     "name": "stdout",
     "output_type": "stream",
     "text": [
      "iteration 0 / 10000: train loss 11.305049 val loss 16.116259 train acc - 0.420000 val acc - 0.349460\n",
      "new best Acc - 0.34946031746031747\n"
     ]
    }
   ],
   "source": [
    "inputDim=28*28\n",
    "hiddenDim=470\n",
    "numClasses=10\n",
    "weightScale=1e-2\n",
    "\n",
    "\n",
    "reg = 9e-3\n",
    "learningRate = 1e-3\n",
    "numIters= 10000\n",
    "\n",
    "\n",
    "model = TwoLayersNet(input_dim, hidden_dim, num_classes, weight_scale, reg)\n",
    "lossHistoryTrain, lossHistoryVal, accHistoryTrain, accHistoryVal = model.train(data, learningRate, numIters)"
   ]
  },
  {
   "cell_type": "code",
   "execution_count": 201,
   "metadata": {},
   "outputs": [
    {
     "data": {
      "text/plain": [
       "<matplotlib.legend.Legend at 0x10f392748>"
      ]
     },
     "execution_count": 201,
     "metadata": {},
     "output_type": "execute_result"
    },
    {
     "data": {
      "image/png": "[encoded data removed]",
      "text/plain": [
       "<Figure size 432x288 with 1 Axes>"
      ]
     },
     "metadata": {},
     "output_type": "display_data"
    }
   ],
   "source": [
    "plt.title('Loss')\n",
    "plt.plot(lossHistoryTrain.keys(), lossHistoryTrain.values(), label='train')\n",
    "plt.plot(lossHistoryVal.keys(), lossHistoryVal.values(), label='test')\n",
    "plt.legend()"
   ]
  },
  {
   "cell_type": "code",
   "execution_count": 202,
   "metadata": {},
   "outputs": [
    {
     "data": {
      "text/plain": [
       "<matplotlib.legend.Legend at 0x123540c18>"
      ]
     },
     "execution_count": 202,
     "metadata": {},
     "output_type": "execute_result"
    },
    {
     "data": {
      "image/png": "[encoded data removed]",
      "text/plain": [
       "<Figure size 432x288 with 1 Axes>"
      ]
     },
     "metadata": {},
     "output_type": "display_data"
    }
   ],
   "source": [
    "plt.title('Acc')\n",
    "plt.plot(accHistoryTrain.keys(), accHistoryTrain.values(), label='train')\n",
    "plt.plot(accHistoryVal.keys(), accHistoryVal.values(), label='test')\n",
    "plt.legend()"
   ]
  },
  {
   "cell_type": "code",
   "execution_count": 203,
   "metadata": {},
   "outputs": [],
   "source": [
    "fname=\"a_submission.csv\"\n",
    "with open(fname,'w') as fout:\n",
    "    fout.write('Id,Category')\n",
    "    scores = model.bestNet(X_test)\n",
    "    for i in range(len(scores)):\n",
    "        y = np.argmax(scores[i])\n",
    "        fout.write(\"\\n{},{}\".format(i, int(y)))"
   ]
  },
  {
   "cell_type": "code",
   "execution_count": null,
   "metadata": {},
   "outputs": [],
   "source": []
  }
 ],
 "metadata": {
  "kernelspec": {
   "display_name": "Python 3",
   "language": "python",
   "name": "python3"
  },
  "language_info": {
   "codemirror_mode": {
    "name": "ipython",
    "version": 3
   },
   "file_extension": ".py",
   "mimetype": "text/x-python",
   "name": "python",
   "nbconvert_exporter": "python",
   "pygments_lexer": "ipython3",
   "version": "3.6.5"
  }
 },
 "nbformat": 4,
 "nbformat_minor": 2
}

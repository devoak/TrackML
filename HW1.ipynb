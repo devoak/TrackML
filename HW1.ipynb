{
 "cells": [
  {
   "cell_type": "code",
   "execution_count": 6,
   "metadata": {
    "collapsed": true
   },
   "outputs": [],
   "source": [
    "import pickle\n",
    "import numpy as np\n",
    "import PIL.Image\n",
    "import itertools\n",
    "from IPython.core.display import Image, display\n",
    "import scipy.ndimage\n",
    "import random\n",
    "import numpy as np\n",
    "import matplotlib.pylab as plt\n",
    "import tqdm\n",
    "import math\n",
    "%matplotlib inline"
   ]
  },
  {
   "cell_type": "markdown",
   "metadata": {},
   "source": [
    "# Загружаем датасет"
   ]
  },
  {
   "cell_type": "code",
   "execution_count": 7,
   "metadata": {
    "collapsed": true
   },
   "outputs": [],
   "source": [
    "with open('./hw_1_train.pickle', 'rb') as f:\n",
    "    train = pickle.load(f)\n",
    "\n",
    "with open('./hw_1_test_no_lables.pickle', 'rb') as f:\n",
    "    test_no_lables = pickle.load(f)"
   ]
  },
  {
   "cell_type": "code",
   "execution_count": 8,
   "metadata": {},
   "outputs": [
    {
     "data": {
      "text/plain": [
       "<matplotlib.image.AxesImage at 0xb216eb5f8>"
      ]
     },
     "execution_count": 8,
     "metadata": {},
     "output_type": "execute_result"
    },
    {
     "data": {
      "image/png": "[encoded data removed]",
      "text/plain": [
       "<Figure size 432x288 with 1 Axes>"
      ]
     },
     "metadata": {},
     "output_type": "display_data"
    }
   ],
   "source": [
    "# Пример, как можно визуализировать данные\n",
    "plt.imshow(train['data'][2].reshape(28,28))"
   ]
  },
  {
   "cell_type": "code",
   "execution_count": 9,
   "metadata": {},
   "outputs": [
    {
     "data": {
      "text/plain": [
       "{'data': array([[0, 0, 0, ..., 0, 0, 0],\n",
       "        [0, 0, 0, ..., 0, 0, 0],\n",
       "        [0, 0, 0, ..., 0, 0, 0],\n",
       "        ...,\n",
       "        [0, 0, 0, ..., 0, 0, 0],\n",
       "        [0, 0, 0, ..., 0, 0, 0],\n",
       "        [0, 0, 0, ..., 0, 0, 0]], dtype=uint8),\n",
       " 'labels': array([5., 5., 6., ..., 6., 5., 6.])}"
      ]
     },
     "execution_count": 9,
     "metadata": {},
     "output_type": "execute_result"
    }
   ],
   "source": [
    "train"
   ]
  },
  {
   "cell_type": "markdown",
   "metadata": {},
   "source": [
    "# Обучаем модель"
   ]
  },
  {
   "cell_type": "code",
   "execution_count": 10,
   "metadata": {},
   "outputs": [],
   "source": [
    "#softmax loss + gradient\n",
    "def softmaxLoss(W, X, y, reg):\n",
    "    loss = 0.0\n",
    "    dW = np.zeros_like(W)\n",
    "    numberOfElements = X.shape[0]\n",
    "    numberOfClasses = W.shape[1]\n",
    "    fullScore = X.dot(W)\n",
    "    fullScore -= np.max(fullScore)\n",
    "  \n",
    "    fullScore = np.exp(fullScore)\n",
    "    fullScore = np.array([row / np.sum(row) for row in fullScore])\n",
    "  \n",
    "    loss -= np.mean(np.log(fullScore[np.arange(fullScore.shape[0]), y]))\n",
    "  \n",
    "    coefs = fullScore\n",
    "    \n",
    "    coefs[np.arange(coefs.shape[0]), y] -= 1\n",
    "  \n",
    "    dW = np.dot(X.T, coefs)\n",
    "\n",
    "    dW /= numberOfElements\n",
    "    loss += 0.5 * reg * np.sum(W * W)\n",
    "    dW += reg * W\n",
    "\n",
    "    return loss, dW"
   ]
  },
  {
   "cell_type": "code",
   "execution_count": 11,
   "metadata": {},
   "outputs": [],
   "source": [
    "def adam(w, dw, config=None):\n",
    "    \n",
    "    if config is None: config = {}\n",
    "    config.setdefault('learning_rate', 1e-3)\n",
    "    config.setdefault('beta1', 0.9)  #grad\n",
    "    config.setdefault('beta2', 0.999) #grad grad\n",
    "    config.setdefault('epsilon', 1e-8)\n",
    "    config.setdefault('m', np.zeros_like(w))\n",
    "    config.setdefault('v', np.zeros_like(w))\n",
    "    config.setdefault('t', 0)\n",
    "\n",
    "    next_w = None\n",
    "    \n",
    "    t = config['t'] + 1\n",
    "    m = config['beta1'] * config['m'] + (1 - config['beta1']) * dw\n",
    "    mt = m / (1 - config['beta1']**t)\n",
    "    v = config['beta2'] * config['v'] + (1 - config['beta2']) * (dw**2)\n",
    "    vt = v / (1 - config['beta2']**t)\n",
    "    next_w = w - config['learning_rate'] * mt / (np.sqrt(vt) + config['epsilon'])\n",
    "    config['t'] = t\n",
    "    config['m'] = m\n",
    "    config['v'] = v\n",
    "\n",
    "    return next_w, config"
   ]
  },
  {
   "cell_type": "code",
   "execution_count": 41,
   "metadata": {
    "collapsed": true
   },
   "outputs": [],
   "source": [
    "class LinearClassifier(object):\n",
    "    def __init__(self):\n",
    "        self.W = None\n",
    "        self.Wbest = None\n",
    "        self.lossMin = 1000\n",
    "\n",
    "    def train(self, trainData, trainLabels, valData, valLabels, learningRate=1e-7, reg=1, numIters=10000, batchSize=200, verbose=True):\n",
    "        numTrain, vectorSize = trainData.shape\n",
    "        numClasses = np.max(labels) + 1\n",
    "        if self.W is None:\n",
    "            #self.W = np.random.normal(scale=1, size=(numClasses, vectorSize)) * np.sqrt(2/(numClasses + vectorSize))\n",
    "            self.W = 0.0001 * np.random.randn(vectorSize, numClasses)\n",
    "\n",
    "        lossHistoryTrain = {}\n",
    "        lossHistoryVal = {}\n",
    "        accHistoryTrain = {}\n",
    "        accHistoryVal = {} \n",
    "        config = {\"learning_rate\" : learningRate}\n",
    "        for it in range(numIters):\n",
    "            batchIndicies = np.random.choice(numTrain, batchSize)\n",
    "            X_batch = trainData[batchIndicies]\n",
    "            y_batch = trainLabels[batchIndicies]\n",
    "            trainLoss, grad = self.loss(X_batch, y_batch, reg)\n",
    "            lossHistoryTrain[it] = trainLoss\n",
    "            self.W, config = adam(self.W, grad, config)\n",
    "                \n",
    "            if verbose and it % (numIters/ 20) == 0:\n",
    "                valLoss, _ = self.loss(valData, valLabels, reg)\n",
    "                lossHistoryVal[it] = valLoss\n",
    "                accHistoryTrain[it] = self.accuracy(X_batch, y_batch)\n",
    "                accHistoryVal[it] = self.accuracy(valData, valLabels)\n",
    "                print('iteration %d / %d: train loss %f val loss %f' % (it, numIters, trainLoss, valLoss))\n",
    "                \n",
    "                if valLoss < self.lossMin:\n",
    "                    self.Wbest = np.copy(self.W)\n",
    "                    self.lossMin = valLoss\n",
    "                    print(\"new best loss - \", valLoss)\n",
    "                \n",
    "            if  it % (numIters / 20) == 0:\n",
    "                config[\"learning_rate\"] *= 0.95\n",
    "                \n",
    "                \n",
    "        return lossHistoryTrain, lossHistoryVal, accHistoryTrain, accHistoryVal\n",
    "\n",
    "    def predict(self, data):\n",
    "        y_pred = np.zeros(data.shape[0])\n",
    "        scores = data.dot(self.W)\n",
    "        y_pred = [np.argmax(x) for x in scores]\n",
    "        return y_pred\n",
    "    \n",
    "    def loss(self, X_batch, y_batch, reg):\n",
    "        return softmaxLoss(self.W, X_batch, y_batch, reg)\n",
    "    \n",
    "    def accuracy(self, data, labels):\n",
    "        return (self.predict(data) == labels).mean()\n",
    "    \n",
    "    def scores(self, data):\n",
    "        fullScore = data.dot(self.Wbest)\n",
    "        fullScore -= np.max(fullScore)\n",
    "        fullScore = np.exp(fullScore)\n",
    "        fullScore = np.array([row / np.sum(row) for row in fullScore])\n",
    "        return fullScore\n",
    "\n",
    "    \n"
   ]
  },
  {
   "cell_type": "code",
   "execution_count": 43,
   "metadata": {},
   "outputs": [
    {
     "name": "stdout",
     "output_type": "stream",
     "text": [
      "iteration 0 / 200000: train loss 0.717596 val loss 0.719938\n",
      "new best loss -  0.7199379046609193\n",
      "iteration 10000 / 200000: train loss 0.057179 val loss 0.070816\n",
      "new best loss -  0.07081562335939201\n",
      "iteration 20000 / 200000: train loss 0.035671 val loss 0.057155\n",
      "new best loss -  0.057154616414732816\n",
      "iteration 30000 / 200000: train loss 0.050455 val loss 0.052789\n",
      "new best loss -  0.05278920712790789\n",
      "iteration 40000 / 200000: train loss 0.054743 val loss 0.050622\n",
      "new best loss -  0.05062180727301422\n",
      "iteration 50000 / 200000: train loss 0.045190 val loss 0.049642\n",
      "new best loss -  0.049642493964569746\n",
      "iteration 60000 / 200000: train loss 0.043452 val loss 0.049055\n",
      "new best loss -  0.04905485822134503\n",
      "iteration 70000 / 200000: train loss 0.027473 val loss 0.048735\n",
      "new best loss -  0.04873535728966505\n",
      "iteration 80000 / 200000: train loss 0.070352 val loss 0.048826\n",
      "iteration 90000 / 200000: train loss 0.041160 val loss 0.049082\n",
      "iteration 100000 / 200000: train loss 0.038880 val loss 0.049103\n",
      "iteration 110000 / 200000: train loss 0.026895 val loss 0.049300\n",
      "iteration 120000 / 200000: train loss 0.046642 val loss 0.049501\n",
      "iteration 130000 / 200000: train loss 0.034485 val loss 0.049814\n",
      "iteration 140000 / 200000: train loss 0.016857 val loss 0.050018\n",
      "iteration 150000 / 200000: train loss 0.026845 val loss 0.050031\n",
      "iteration 160000 / 200000: train loss 0.021948 val loss 0.050260\n",
      "iteration 170000 / 200000: train loss 0.029649 val loss 0.050411\n",
      "iteration 180000 / 200000: train loss 0.025974 val loss 0.050600\n",
      "iteration 190000 / 200000: train loss 0.019704 val loss 0.050884\n",
      "0.99\n",
      "0.984\n"
     ]
    }
   ],
   "source": [
    "reg = 1e-2\n",
    "learningRate = 1e-7\n",
    "splitFactor = 8500\n",
    "numIters= 200000\n",
    "\n",
    "model = LinearClassifier()\n",
    "# 5 - 0, 6 - 1\n",
    "labels =  np.array([int(x) for x in train[\"labels\"]])\n",
    "labels[labels == 5] = 0\n",
    "labels[labels == 6] = 1\n",
    "trainLabels = labels[:splitFactor:]\n",
    "valLabels = labels[splitFactor::]\n",
    "\n",
    "myTrain = np.array(train[\"data\"])[:splitFactor:]\n",
    "myVal = np.array(train[\"data\"])[splitFactor::]\n",
    "\n",
    "\n",
    "lossHistoryTrain, lossHistoryVal, accHistoryTrain, accHistoryVal = model.train(myTrain, trainLabels, myVal, valLabels, learningRate,\n",
    "                                                                               reg,numIters)\n",
    "\n",
    "trainAccuracy = (model.predict(myTrain) == trainLabels).mean()\n",
    "valAccuracy = (model.predict(myVal) == valLabels).mean()\n",
    "print(trainAccuracy)\n",
    "print(valAccuracy)\n"
   ]
  },
  {
   "cell_type": "code",
   "execution_count": 44,
   "metadata": {},
   "outputs": [],
   "source": [
    "X = test_no_lables['data']\n",
    "scores = model.scores(X)\n",
    "\n",
    "with open('solution.csv', 'w') as fout:\n",
    "    print(\"Id,Prediction\", file=fout)\n",
    "    for i in range(len(X)):\n",
    "        print(i, scores[i][1], sep=',', file=fout)"
   ]
  },
  {
   "cell_type": "code",
   "execution_count": 28,
   "metadata": {},
   "outputs": [
    {
     "data": {
      "text/plain": [
       "<matplotlib.legend.Legend at 0xb28244630>"
      ]
     },
     "execution_count": 28,
     "metadata": {},
     "output_type": "execute_result"
    },
    {
     "data": {
      "image/png": "[encoded data removed]",
      "text/plain": [
       "<Figure size 432x288 with 1 Axes>"
      ]
     },
     "metadata": {},
     "output_type": "display_data"
    }
   ],
   "source": [
    "plt.title('Loss')\n",
    "plt.plot(lossHistoryTrain.keys(), lossHistoryTrain.values(), label='train')\n",
    "plt.plot(lossHistoryVal.keys(), lossHistoryVal.values(), label='test')\n",
    "plt.legend()"
   ]
  },
  {
   "cell_type": "code",
   "execution_count": 20,
   "metadata": {},
   "outputs": [
    {
     "data": {
      "text/plain": [
       "<matplotlib.legend.Legend at 0xb240ef320>"
      ]
     },
     "execution_count": 20,
     "metadata": {},
     "output_type": "execute_result"
    },
    {
     "data": {
      "image/png": "[encoded data removed]",
      "text/plain": [
       "<Figure size 432x288 with 1 Axes>"
      ]
     },
     "metadata": {},
     "output_type": "display_data"
    }
   ],
   "source": [
    "plt.title('Acc')\n",
    "plt.plot(accHistoryTrain.keys(), accHistoryTrain.values(), label='train')\n",
    "plt.plot(accHistoryVal.keys(), accHistoryVal.values(), label='test')\n",
    "plt.legend()"
   ]
  },
  {
   "cell_type": "markdown",
   "metadata": {},
   "source": [
    "Обязательно отрисуйте 2 графика:\n",
    "- loss на обучающем и тестовом множесте\n",
    "- % правильно классифицированных примеров на тестовом и обучающем множестве"
   ]
  },
  {
   "cell_type": "code",
   "execution_count": 219,
   "metadata": {},
   "outputs": [
    {
     "data": {
      "text/plain": [
       "<matplotlib.legend.Legend at 0x7fde975869e8>"
      ]
     },
     "execution_count": 219,
     "metadata": {},
     "output_type": "execute_result"
    },
    {
     "data": {
      "image/png": "[encoded data removed]",
      "text/plain": [
       "<matplotlib.figure.Figure at 0x7fde92c326d8>"
      ]
     },
     "metadata": {},
     "output_type": "display_data"
    }
   ],
   "source": [
    "plt.title('Loss')\n",
    "plt.plot([e[0] for e in tr_eval], label='train')\n",
    "plt.plot([e[0] for e in te_eval], label='test')\n",
    "plt.legend()"
   ]
  },
  {
   "cell_type": "code",
   "execution_count": 220,
   "metadata": {},
   "outputs": [
    {
     "data": {
      "text/plain": [
       "<matplotlib.legend.Legend at 0x7fde9752bba8>"
      ]
     },
     "execution_count": 220,
     "metadata": {},
     "output_type": "execute_result"
    },
    {
     "data": {
      "image/png": "[encoded data removed]",
      "text/plain": [
       "<matplotlib.figure.Figure at 0x7fde92b605f8>"
      ]
     },
     "metadata": {},
     "output_type": "display_data"
    }
   ],
   "source": [
    "plt.title('Acc')\n",
    "plt.plot([e[1] for e in tr_eval], label='train')\n",
    "plt.plot([e[1] for e in te_eval], label='test')\n",
    "plt.legend()"
   ]
  },
  {
   "cell_type": "markdown",
   "metadata": {},
   "source": [
    "# Сохраняем данные для кагла"
   ]
  },
  {
   "cell_type": "markdown",
   "metadata": {},
   "source": [
    "https://www.kaggle.com/t/513ea517806348848dc78c4f41d44528"
   ]
  },
  {
   "cell_type": "markdown",
   "metadata": {},
   "source": [
    "Результат записывается в простой текстовый файл. Первая строчка \"Id,Prediction\", далее для каждого примера из валидационного множества записывается его Id (порядковый номер, с нуля) и вероятность принадлежности к классу '6', например '123,0.12'.\n",
    "\n",
    "Важно соблюдать тот же порядок следования элементов, что и в наборе данных. Нумерация id с 0"
   ]
  },
  {
   "cell_type": "code",
   "execution_count": 221,
   "metadata": {
    "collapsed": true
   },
   "outputs": [],
   "source": [
    "X = test_no_lables['data']\n",
    "\n",
    "# compute Y_pred\n",
    "\n",
    "with open('solution.csv', 'w') as fout:\n",
    "    print(\"Id,Prediction\", file=fout)\n",
    "    for i in range(len(test['labels'])):\n",
    "        print(i, Y_pred[i], sep=',', file=fout)"
   ]
  },
  {
   "cell_type": "markdown",
   "metadata": {},
   "source": [
    "# Сдача"
   ]
  },
  {
   "cell_type": "markdown",
   "metadata": {},
   "source": [
    "1. Регистрируетесь на конкурс https://www.kaggle.com/t/513ea517806348848dc78c4f41d44528 \n",
    "1. Преодолеваете \"Pass level\" baseline\n",
    "1. После того, как вы преодолеете baseline, присылайте ноутбук с решение по адресу **voropaev@corp.mail.ru**\n",
    "\n",
    "# Внимание\n",
    "- Пишите тему письм в формате \"[МИФИ][1] Фамилия\"\n",
    "- Внутри писма прикрепляете файл ноутбука с именем family.ipynb\n",
    "- Обязательно указывайте ваш ник на kaggle"
   ]
  }
 ],
 "metadata": {
  "kernelspec": {
   "display_name": "Python 3",
   "language": "python",
   "name": "python3"
  },
  "language_info": {
   "codemirror_mode": {
    "name": "ipython",
    "version": 3
   },
   "file_extension": ".py",
   "mimetype": "text/x-python",
   "name": "python",
   "nbconvert_exporter": "python",
   "pygments_lexer": "ipython3",
   "version": "3.6.5"
  }
 },
 "nbformat": 4,
 "nbformat_minor": 2
}
